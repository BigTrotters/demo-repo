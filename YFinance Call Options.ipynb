{
 "cells": [
  {
   "cell_type": "code",
   "execution_count": 1,
   "metadata": {},
   "outputs": [
    {
     "ename": "ValueError",
     "evalue": "Expiration `2020-10-09` cannot be found. Available expiration are: [2020-10-30, 2020-11-06, 2020-11-13, 2020-11-20, 2020-11-27, 2020-12-04, 2020-12-18, 2021-01-15, 2021-02-19, 2021-03-19, 2021-04-16, 2021-06-18, 2021-07-16, 2021-09-17, 2022-01-21, 2022-03-18, 2022-06-17, 2022-09-16, 2023-01-20]",
     "output_type": "error",
     "traceback": [
      "\u001b[0;31m---------------------------------------------------------------------------\u001b[0m",
      "\u001b[0;31mValueError\u001b[0m                                Traceback (most recent call last)",
      "\u001b[0;32m<ipython-input-1-f14a8584e57b>\u001b[0m in \u001b[0;36m<module>\u001b[0;34m\u001b[0m\n\u001b[1;32m      8\u001b[0m \u001b[0msymbol\u001b[0m \u001b[0;34m=\u001b[0m \u001b[0;34m'MSFT'\u001b[0m\u001b[0;34m\u001b[0m\u001b[0;34m\u001b[0m\u001b[0m\n\u001b[1;32m      9\u001b[0m \u001b[0mticker\u001b[0m \u001b[0;34m=\u001b[0m \u001b[0myf\u001b[0m\u001b[0;34m.\u001b[0m\u001b[0mTicker\u001b[0m \u001b[0;34m(\u001b[0m\u001b[0msymbol\u001b[0m\u001b[0;34m)\u001b[0m\u001b[0;34m\u001b[0m\u001b[0;34m\u001b[0m\u001b[0m\n\u001b[0;32m---> 10\u001b[0;31m \u001b[0moptions\u001b[0m \u001b[0;34m=\u001b[0m \u001b[0mticker\u001b[0m\u001b[0;34m.\u001b[0m\u001b[0moption_chain\u001b[0m\u001b[0;34m(\u001b[0m\u001b[0;34m'2020-10-09'\u001b[0m\u001b[0;34m)\u001b[0m\u001b[0;34m\u001b[0m\u001b[0;34m\u001b[0m\u001b[0m\n\u001b[0m\u001b[1;32m     11\u001b[0m \u001b[0moptions\u001b[0m\u001b[0;34m.\u001b[0m\u001b[0mcalls\u001b[0m\u001b[0;34m.\u001b[0m\u001b[0minfo\u001b[0m\u001b[0;34m(\u001b[0m\u001b[0;34m)\u001b[0m\u001b[0;34m\u001b[0m\u001b[0;34m\u001b[0m\u001b[0m\n",
      "\u001b[0;32m/opt/anaconda3/lib/python3.7/site-packages/yfinance/ticker.py\u001b[0m in \u001b[0;36moption_chain\u001b[0;34m(self, date, proxy, tz)\u001b[0m\n\u001b[1;32m     95\u001b[0m                     \u001b[0;34m\"Expiration `%s` cannot be found. \"\u001b[0m\u001b[0;34m\u001b[0m\u001b[0;34m\u001b[0m\u001b[0m\n\u001b[1;32m     96\u001b[0m                     \"Available expiration are: [%s]\" % (\n\u001b[0;32m---> 97\u001b[0;31m                         date, ', '.join(self._expirations)))\n\u001b[0m\u001b[1;32m     98\u001b[0m             \u001b[0mdate\u001b[0m \u001b[0;34m=\u001b[0m \u001b[0mself\u001b[0m\u001b[0;34m.\u001b[0m\u001b[0m_expirations\u001b[0m\u001b[0;34m[\u001b[0m\u001b[0mdate\u001b[0m\u001b[0;34m]\u001b[0m\u001b[0;34m\u001b[0m\u001b[0;34m\u001b[0m\u001b[0m\n\u001b[1;32m     99\u001b[0m             \u001b[0moptions\u001b[0m \u001b[0;34m=\u001b[0m \u001b[0mself\u001b[0m\u001b[0;34m.\u001b[0m\u001b[0m_download_options\u001b[0m\u001b[0;34m(\u001b[0m\u001b[0mdate\u001b[0m\u001b[0;34m,\u001b[0m \u001b[0mproxy\u001b[0m\u001b[0;34m=\u001b[0m\u001b[0mproxy\u001b[0m\u001b[0;34m)\u001b[0m\u001b[0;34m\u001b[0m\u001b[0;34m\u001b[0m\u001b[0m\n",
      "\u001b[0;31mValueError\u001b[0m: Expiration `2020-10-09` cannot be found. Available expiration are: [2020-10-30, 2020-11-06, 2020-11-13, 2020-11-20, 2020-11-27, 2020-12-04, 2020-12-18, 2021-01-15, 2021-02-19, 2021-03-19, 2021-04-16, 2021-06-18, 2021-07-16, 2021-09-17, 2022-01-21, 2022-03-18, 2022-06-17, 2022-09-16, 2023-01-20]"
     ]
    }
   ],
   "source": [
    "import yfinance as yf\n",
    "from pandas_datareader import data\n",
    "from pandas_datareader._utils import RemoteDataError\n",
    "import matplotlib.pyplot as plt\n",
    "import pandas as pd\n",
    "import numpy as np\n",
    "import datetime\n",
    "symbol = 'MSFT'\n",
    "ticker = yf.Ticker (symbol)\n",
    "options = ticker.option_chain('2020-10-09')\n",
    "options.calls.info()"
   ]
  },
  {
   "cell_type": "code",
   "execution_count": null,
   "metadata": {},
   "outputs": [],
   "source": []
  }
 ],
 "metadata": {
  "kernelspec": {
   "display_name": "Python 3",
   "language": "python",
   "name": "python3"
  },
  "language_info": {
   "codemirror_mode": {
    "name": "ipython",
    "version": 3
   },
   "file_extension": ".py",
   "mimetype": "text/x-python",
   "name": "python",
   "nbconvert_exporter": "python",
   "pygments_lexer": "ipython3",
   "version": "3.7.6"
  }
 },
 "nbformat": 4,
 "nbformat_minor": 4
}
